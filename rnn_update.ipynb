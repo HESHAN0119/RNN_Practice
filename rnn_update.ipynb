{
 "cells": [
  {
   "cell_type": "code",
   "execution_count": 1,
   "id": "96066576-8d0a-41c7-b264-2a18494d83a6",
   "metadata": {},
   "outputs": [],
   "source": [
    "import pandas as pd\n",
    "from sklearn.model_selection import train_test_split "
   ]
  },
  {
   "cell_type": "code",
   "execution_count": 6,
   "id": "a2738653-e3dc-4081-9851-852bd55f4955",
   "metadata": {},
   "outputs": [],
   "source": [
    "df = pd.read_csv(\"amazon_cells_labelled.txt\", delimiter=\"\\t\", header=None, names=[\"Review\", \"Sentiment\"]) #delimeter,header, names used bcs of .txt file"
   ]
  },
  {
   "cell_type": "code",
   "execution_count": null,
   "id": "1bc6a0b4-324d-4305-bc09-fe22c1c38a86",
   "metadata": {},
   "outputs": [],
   "source": [
    "df.head() #first 5 rows"
   ]
  },
  {
   "cell_type": "code",
   "execution_count": null,
   "id": "d1ab9a22-ed76-4004-b638-887869ffe2a7",
   "metadata": {},
   "outputs": [],
   "source": [
    "df.shape"
   ]
  },
  {
   "cell_type": "code",
   "execution_count": 16,
   "id": "aba54d08-25e0-48c7-ab1a-c486a5563a9c",
   "metadata": {},
   "outputs": [],
   "source": [
    "train_X, test_X, train_y, test_y = train_test_split(df[\"Review\"], df[\"Sentiment\"], test_size=0.2, random_state=42) #data split"
   ]
  },
  {
   "cell_type": "code",
   "execution_count": null,
   "id": "066cabbc-378e-4bac-8693-0694044d472f",
   "metadata": {},
   "outputs": [],
   "source": [
    "train_X.head()"
   ]
  },
  {
   "cell_type": "code",
   "execution_count": null,
   "id": "4ebd2c67-cd58-401f-82c0-3cecbe4179a0",
   "metadata": {},
   "outputs": [],
   "source": [
    "train_X.shape"
   ]
  },
  {
   "cell_type": "code",
   "execution_count": null,
   "id": "6ef3c65f-afe2-43c4-86eb-c85e343d94c2",
   "metadata": {},
   "outputs": [],
   "source": [
    "test_X.head()"
   ]
  },
  {
   "cell_type": "code",
   "execution_count": null,
   "id": "58154261-c040-423e-889d-f42457ca5d45",
   "metadata": {},
   "outputs": [],
   "source": [
    "test_X.shape"
   ]
  },
  {
   "cell_type": "code",
   "execution_count": 22,
   "id": "4ca7bbd3-1830-40ad-84a5-4d0efd168736",
   "metadata": {},
   "outputs": [],
   "source": [
    "from tensorflow.keras.preprocessing.text import Tokenizer #divide sequence of words into pieces\n",
    "tokenizer = Tokenizer()\n",
    "tokenizer.fit_on_texts(train_X)"
   ]
  },
  {
   "cell_type": "code",
   "execution_count": null,
   "id": "ae635492-fcef-4e09-9ac8-3e25dc687248",
   "metadata": {},
   "outputs": [],
   "source": [
    "tokenizer.word_index"
   ]
  },
  {
   "cell_type": "code",
   "execution_count": 25,
   "id": "0fd71c81-02ca-4256-a7dc-2bdcba15149a",
   "metadata": {},
   "outputs": [],
   "source": [
    "train_sequences = tokenizer.texts_to_sequences(train_X)\n",
    "test_sequences = tokenizer.texts_to_sequences(test_X)"
   ]
  },
  {
   "cell_type": "code",
   "execution_count": null,
   "id": "36e251b0-7dfa-4cf4-8e5a-7d068fea3464",
   "metadata": {},
   "outputs": [],
   "source": [
    "train_sequences"
   ]
  },
  {
   "cell_type": "code",
   "execution_count": null,
   "id": "e150cb02-1b88-462c-b8bb-eb72f1ec43b0",
   "metadata": {},
   "outputs": [],
   "source": [
    "max_length = max(max(len(seq) for seq in train_sequences), max(len(seq) for seq in test_sequences))\n",
    "max_length"
   ]
  },
  {
   "cell_type": "code",
   "execution_count": 28,
   "id": "68e212a7-b4b3-412f-bf33-f64b58c4ec75",
   "metadata": {},
   "outputs": [],
   "source": [
    "from tensorflow.keras.preprocessing.sequence import pad_sequences"
   ]
  },
  {
   "cell_type": "code",
   "execution_count": 29,
   "id": "edc72e3c-bea3-4608-9dbb-950bfa1307df",
   "metadata": {},
   "outputs": [],
   "source": [
    "train_data_padded = pad_sequences(train_sequences, maxlen=max_length, padding='post')\n",
    "test_data_padded = pad_sequences(test_sequences, maxlen=max_length, padding='post')"
   ]
  },
  {
   "cell_type": "code",
   "execution_count": null,
   "id": "bdbaed0b-62c4-41f2-8d1a-ca108403223d",
   "metadata": {},
   "outputs": [],
   "source": [
    "train_data_padded"
   ]
  },
  {
   "cell_type": "code",
   "execution_count": 39,
   "id": "af9bee35-8ca0-4866-b122-7184bf59cc10",
   "metadata": {},
   "outputs": [],
   "source": [
    "from tensorflow.keras.models import Sequential\n",
    "from tensorflow.keras.layers import Embedding, LSTM, Dense\n",
    "from tensorflow.keras.optimizers import Adam"
   ]
  },
  {
   "cell_type": "code",
   "execution_count": 36,
   "id": "07c95b88-10a5-4f2e-9d03-d604315709d7",
   "metadata": {},
   "outputs": [],
   "source": [
    "vocab_size = len(tokenizer.word_index) + 1 #\n",
    "embedding_dim = 16\n",
    "model = Sequential() #start of the model\n",
    "model.add(Embedding(input_dim=vocab_size, output_dim=embedding_dim, input_length=max_length))\n",
    "model.add(LSTM(32, return_sequences=True))\n",
    "model.add(LSTM(16, return_sequences=True))\n",
    "model.add(LSTM(8))\n",
    "model.add(Dense(1, activation='sigmoid')) #binary output 0 or 1\n",
    "#multiClass for 5 outputs\n",
    "# model.add(Dense(5, activation='softmax')) "
   ]
  },
  {
   "cell_type": "code",
   "execution_count": null,
   "id": "9e140104-39e9-4526-a8b9-34e0d758f03e",
   "metadata": {},
   "outputs": [],
   "source": [
    "#compile the model architecture\n",
    "optimizer = Adam(learning_rate=0.001) #use adam #change learning rate(0.01) //if want use 0.01 or 0.001\n",
    "model.compile(optimizer=optimizer, loss='binary_crossentropy', metrics=['accuracy']) #if binary => binary_crossentropy ,if multiclass => categorical_crossentropy\n",
    "history = model.fit(train_data_padded, train_y, epochs=10, batch_size=32, validation_split=0.1) #fit means training the dataset #validation_split(must)"
   ]
  }
 ],
 "metadata": {
  "kernelspec": {
   "display_name": "Python 3 (ipykernel)",
   "language": "python",
   "name": "python3"
  },
  "language_info": {
   "codemirror_mode": {
    "name": "ipython",
    "version": 3
   },
   "file_extension": ".py",
   "mimetype": "text/x-python",
   "name": "python",
   "nbconvert_exporter": "python",
   "pygments_lexer": "ipython3",
   "version": "3.9.13"
  }
 },
 "nbformat": 4,
 "nbformat_minor": 5
}
